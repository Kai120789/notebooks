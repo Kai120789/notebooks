{
 "cells": [
  {
   "cell_type": "code",
   "execution_count": 1,
   "id": "df17a639-a958-4c4c-a4c5-3454b62af780",
   "metadata": {},
   "outputs": [],
   "source": [
    "import numpy as np"
   ]
  },
  {
   "cell_type": "markdown",
   "id": "deda98d2-a0b9-4242-ad2f-1d60d1324dd2",
   "metadata": {},
   "source": [
    "## 1. Calculating Total Revenue"
   ]
  },
  {
   "cell_type": "code",
   "execution_count": 3,
   "id": "63b45abe-92cf-4ec8-9f6e-6957713fa08b",
   "metadata": {},
   "outputs": [
    {
     "data": {
      "text/plain": [
       "array([19.99, 29.99, 14.99,  9.99, 24.99])"
      ]
     },
     "execution_count": 3,
     "metadata": {},
     "output_type": "execute_result"
    }
   ],
   "source": [
    "prices = np.array([19.99, 29.99, 14.99, 9.99, 24.99])\n",
    "prices"
   ]
  },
  {
   "cell_type": "code",
   "execution_count": 4,
   "id": "5c391285-d0b4-4bae-8b8f-e17ec6f5e7c0",
   "metadata": {},
   "outputs": [
    {
     "data": {
      "text/plain": [
       "array([10,  5,  8, 12,  3])"
      ]
     },
     "execution_count": 4,
     "metadata": {},
     "output_type": "execute_result"
    }
   ],
   "source": [
    "quantities = np.array([10, 5, 8, 12, 3])\n",
    "quantities"
   ]
  },
  {
   "cell_type": "code",
   "execution_count": 7,
   "id": "7c20fd11-7a46-4f8e-9128-7d75b0e1a5c2",
   "metadata": {},
   "outputs": [
    {
     "data": {
      "text/plain": [
       "array([199.9 , 149.95, 119.92, 119.88,  74.97])"
      ]
     },
     "execution_count": 7,
     "metadata": {},
     "output_type": "execute_result"
    }
   ],
   "source": [
    "revenue_per_product = prices * quantities\n",
    "revenue_per_product"
   ]
  },
  {
   "cell_type": "code",
   "execution_count": 9,
   "id": "21056081-1c95-4fc3-ba88-682eabe48445",
   "metadata": {},
   "outputs": [
    {
     "data": {
      "text/plain": [
       "664.62"
      ]
     },
     "execution_count": 9,
     "metadata": {},
     "output_type": "execute_result"
    }
   ],
   "source": [
    "total_revenue = np.sum(revenue_per_product)\n",
    "total_revenue"
   ]
  },
  {
   "cell_type": "markdown",
   "id": "22e286d4-f150-48ab-8ffd-433fce023c40",
   "metadata": {},
   "source": [
    "## 2. Analyzing Blog Post Stats"
   ]
  },
  {
   "cell_type": "code",
   "execution_count": 11,
   "id": "65bdd43e-4b3c-4b42-87df-c7d678eecd73",
   "metadata": {},
   "outputs": [
    {
     "data": {
      "text/plain": [
       "array([1000,  500,  800, 1200,  300,  600])"
      ]
     },
     "execution_count": 11,
     "metadata": {},
     "output_type": "execute_result"
    }
   ],
   "source": [
    "viems = np.array([1000, 500, 800, 1200, 300, 600])\n",
    "viems"
   ]
  },
  {
   "cell_type": "code",
   "execution_count": 12,
   "id": "82a80aa3-bf10-461b-a29a-08803862b327",
   "metadata": {},
   "outputs": [
    {
     "data": {
      "text/plain": [
       "1200"
      ]
     },
     "execution_count": 12,
     "metadata": {},
     "output_type": "execute_result"
    }
   ],
   "source": [
    "max_viems = np.max(viems)\n",
    "max_viems"
   ]
  },
  {
   "cell_type": "code",
   "execution_count": 13,
   "id": "f1d59aeb-3ecc-4afb-9d11-94b1a8bf9a4e",
   "metadata": {},
   "outputs": [
    {
     "data": {
      "text/plain": [
       "300"
      ]
     },
     "execution_count": 13,
     "metadata": {},
     "output_type": "execute_result"
    }
   ],
   "source": [
    "min_viems = np.min(viems)\n",
    "min_viems"
   ]
  },
  {
   "cell_type": "code",
   "execution_count": 16,
   "id": "e7f63150-16ef-45ef-9eda-641f1a7f4366",
   "metadata": {},
   "outputs": [
    {
     "data": {
      "text/plain": [
       "733.33"
      ]
     },
     "execution_count": 16,
     "metadata": {},
     "output_type": "execute_result"
    }
   ],
   "source": [
    "average_viems = np.round(np.mean(viems), 2)\n",
    "average_viems"
   ]
  },
  {
   "cell_type": "code",
   "execution_count": 17,
   "id": "d862de62-a3ed-43ae-9f33-cdd26c3c76ef",
   "metadata": {},
   "outputs": [
    {
     "data": {
      "text/plain": [
       "4400"
      ]
     },
     "execution_count": 17,
     "metadata": {},
     "output_type": "execute_result"
    }
   ],
   "source": [
    "total_viems = np.sum(viems)\n",
    "total_viems"
   ]
  },
  {
   "cell_type": "markdown",
   "id": "a07bd295-0431-4615-a372-2c820b4ddc93",
   "metadata": {},
   "source": [
    "## 3. Splitting Order into Batches"
   ]
  },
  {
   "cell_type": "code",
   "execution_count": 21,
   "id": "8ac07f7b-193a-46e2-946a-557ce4e450dd",
   "metadata": {},
   "outputs": [
    {
     "data": {
      "text/plain": [
       "array([1001, 1002, 1003, 1004, 1005, 1006, 1007, 1008])"
      ]
     },
     "execution_count": 21,
     "metadata": {},
     "output_type": "execute_result"
    }
   ],
   "source": [
    "order_ids = np.array([1001, 1002, 1003, 1004, 1005, 1006, 1007, 1008])\n",
    "order_ids"
   ]
  },
  {
   "cell_type": "code",
   "execution_count": 22,
   "id": "8edb9266-f46c-414c-be1d-3f3cda6dd11a",
   "metadata": {},
   "outputs": [
    {
     "data": {
      "text/plain": [
       "[array([1001, 1002]),\n",
       " array([1003, 1004]),\n",
       " array([1005, 1006]),\n",
       " array([1007, 1008])]"
      ]
     },
     "execution_count": 22,
     "metadata": {},
     "output_type": "execute_result"
    }
   ],
   "source": [
    "batches = np.split(order_ids, 4)\n",
    "batches"
   ]
  },
  {
   "cell_type": "code",
   "execution_count": 27,
   "id": "b4d20089-f3dc-4974-93d8-13b12ab9f55f",
   "metadata": {},
   "outputs": [
    {
     "name": "stdout",
     "output_type": "stream",
     "text": [
      "Batch num: 0\n",
      "First el in the batch:  1001\n",
      "Second el in the batch:  1002\n",
      "\n",
      "Batch num: 1\n",
      "First el in the batch:  1003\n",
      "Second el in the batch:  1004\n",
      "\n",
      "Batch num: 2\n",
      "First el in the batch:  1005\n",
      "Second el in the batch:  1006\n",
      "\n",
      "Batch num: 3\n",
      "First el in the batch:  1007\n",
      "Second el in the batch:  1008\n",
      "\n"
     ]
    }
   ],
   "source": [
    "for i, batch in enumerate(batches):\n",
    "    print(f'Batch num: {i}')\n",
    "    print(\"First el in the batch: \", batch[0])\n",
    "    print(\"Second el in the batch: \", batch[1])\n",
    "    print()"
   ]
  },
  {
   "cell_type": "markdown",
   "id": "25a174f5-607d-4950-a0f9-a2540f204f39",
   "metadata": {},
   "source": [
    "## 4. Categorizing Product Ratings"
   ]
  },
  {
   "cell_type": "code",
   "execution_count": 28,
   "id": "f173dfd3-1aa2-41c7-9f3a-bd37a01c2b89",
   "metadata": {},
   "outputs": [
    {
     "data": {
      "text/plain": [
       "array([4.5, 3.2, 2.8, 5. , 4.1, 3.9, 2.5, 4.7])"
      ]
     },
     "execution_count": 28,
     "metadata": {},
     "output_type": "execute_result"
    }
   ],
   "source": [
    "ratings = np.array([4.5, 3.2, 2.8, 5.0, 4.1, 3.9, 2.5, 4.7])\n",
    "ratings"
   ]
  },
  {
   "cell_type": "code",
   "execution_count": 31,
   "id": "1b70f157-99d2-426f-9a19-99843cc4ac80",
   "metadata": {},
   "outputs": [
    {
     "data": {
      "text/plain": [
       "array([4.5, 5. , 4.1, 4.7])"
      ]
     },
     "execution_count": 31,
     "metadata": {},
     "output_type": "execute_result"
    }
   ],
   "source": [
    "positive_ratings = ratings[ratings >= 4.0]\n",
    "positive_ratings"
   ]
  },
  {
   "cell_type": "code",
   "execution_count": 32,
   "id": "2d064ce4-089c-4054-9e74-c640612171c1",
   "metadata": {},
   "outputs": [
    {
     "data": {
      "text/plain": [
       "array([3.2, 2.8, 3.9, 2.5])"
      ]
     },
     "execution_count": 32,
     "metadata": {},
     "output_type": "execute_result"
    }
   ],
   "source": [
    "negative_ratings = ratings[ratings < 4.0]\n",
    "negative_ratings"
   ]
  },
  {
   "cell_type": "markdown",
   "id": "e72dbd80-527f-43b8-823c-7f6148197dbf",
   "metadata": {},
   "source": [
    "## 5. Calculate Total and Average quantities sold"
   ]
  },
  {
   "cell_type": "code",
   "execution_count": 42,
   "id": "721c77de-32f4-44de-84f1-f3102ac99ce8",
   "metadata": {},
   "outputs": [
    {
     "data": {
      "text/plain": [
       "array([[ 5,  3,  2,  7],\n",
       "       [10,  6,  3,  9]])"
      ]
     },
     "execution_count": 42,
     "metadata": {},
     "output_type": "execute_result"
    }
   ],
   "source": [
    "# Each column is specific product (4 products)\n",
    "# Each row is specific order (2 orders)\n",
    "order_quantities = np.array([[5, 3, 2, 7], [10, 6, 3, 9]])\n",
    "order_quantities"
   ]
  },
  {
   "cell_type": "code",
   "execution_count": 43,
   "id": "fc7cefc9-641d-4bcf-804e-45e7bd45300a",
   "metadata": {},
   "outputs": [
    {
     "data": {
      "text/plain": [
       "array([15,  9,  5, 16])"
      ]
     },
     "execution_count": 43,
     "metadata": {},
     "output_type": "execute_result"
    }
   ],
   "source": [
    "# Quantities of the sale per product\n",
    "total_quantities_sold = np.sum(order_quantities, axis=0)\n",
    "total_quantities_sold"
   ]
  },
  {
   "cell_type": "code",
   "execution_count": 44,
   "id": "fbac15e3-cccc-4a53-a07c-14b065866d57",
   "metadata": {},
   "outputs": [
    {
     "data": {
      "text/plain": [
       "array([17, 28])"
      ]
     },
     "execution_count": 44,
     "metadata": {},
     "output_type": "execute_result"
    }
   ],
   "source": [
    "# Quantities of the sale per order\n",
    "total_products_per_order = np.sum(order_quantities, axis=1)\n",
    "total_products_per_order"
   ]
  },
  {
   "cell_type": "code",
   "execution_count": 47,
   "id": "413c3db0-462d-4cf5-b058-da04441569d4",
   "metadata": {},
   "outputs": [
    {
     "data": {
      "text/plain": [
       "array([7.5, 4.5, 2.5, 8. ])"
      ]
     },
     "execution_count": 47,
     "metadata": {},
     "output_type": "execute_result"
    }
   ],
   "source": [
    "# Average quantities per product across all orders\n",
    "average_quantities_sold = np.mean(order_quantities, axis=0)\n",
    "average_quantities_sold"
   ]
  },
  {
   "cell_type": "markdown",
   "id": "646af17c-f430-4233-87ca-b39e1bb52f80",
   "metadata": {},
   "source": [
    "## 6. Calculate Average product Rating and Maximum rating per Category"
   ]
  },
  {
   "cell_type": "code",
   "execution_count": 49,
   "id": "9351f5b4-c4d1-4061-8d32-b69d2e6b4a84",
   "metadata": {},
   "outputs": [
    {
     "data": {
      "text/plain": [
       "array([[4.5, 3.2, 2.5, 5. ],\n",
       "       [4.3, 3. , 1. , 4.8],\n",
       "       [2. , 3.6, 4.7, 0.5]])"
      ]
     },
     "execution_count": 49,
     "metadata": {},
     "output_type": "execute_result"
    }
   ],
   "source": [
    "# Each row is one product\n",
    "# Each product is rated in 4 categories\n",
    "product_ratings = np.array([\n",
    "    [4.5, 3.2, 2.5, 5.0],\n",
    "    [4.3, 3.0, 1.0, 4.8],\n",
    "    [2.0, 3.6, 4.7, 0.5]\n",
    "])\n",
    "product_ratings"
   ]
  },
  {
   "cell_type": "code",
   "execution_count": 54,
   "id": "053cd72d-0a88-4a0f-894f-1b6452602067",
   "metadata": {},
   "outputs": [
    {
     "data": {
      "text/plain": [
       "array([3.6       , 3.26666667, 2.73333333, 3.43333333])"
      ]
     },
     "execution_count": 54,
     "metadata": {},
     "output_type": "execute_result"
    }
   ],
   "source": [
    "# Average rating in each category\n",
    "average_rating_per_category = np.mean(product_ratings, axis=0)\n",
    "average_rating_per_category"
   ]
  },
  {
   "cell_type": "code",
   "execution_count": 56,
   "id": "4c3bd895-9464-4415-9908-97aea3168d59",
   "metadata": {},
   "outputs": [
    {
     "data": {
      "text/plain": [
       "array([3.8  , 3.275, 2.7  ])"
      ]
     },
     "execution_count": 56,
     "metadata": {},
     "output_type": "execute_result"
    }
   ],
   "source": [
    "# Average rating for each product\n",
    "average_rating_per_product = np.mean(product_ratings, axis=1)\n",
    "average_rating_per_product"
   ]
  },
  {
   "cell_type": "code",
   "execution_count": 58,
   "id": "2ac13d53-02c3-4dd1-8d1e-ebd61187f3b2",
   "metadata": {},
   "outputs": [
    {
     "data": {
      "text/plain": [
       "array([4.5, 3.6, 4.7, 5. ])"
      ]
     },
     "execution_count": 58,
     "metadata": {},
     "output_type": "execute_result"
    }
   ],
   "source": [
    "# Maximum rating in each category\n",
    "max_rating_per_category = np.max(product_ratings, axis=0)\n",
    "max_rating_per_category"
   ]
  },
  {
   "cell_type": "code",
   "execution_count": 59,
   "id": "f8b6e2d1-d135-4213-869a-25dad09c50ef",
   "metadata": {},
   "outputs": [
    {
     "data": {
      "text/plain": [
       "array([2.5, 1. , 0.5])"
      ]
     },
     "execution_count": 59,
     "metadata": {},
     "output_type": "execute_result"
    }
   ],
   "source": [
    "# Minimum rating for each product\n",
    "min_rating_per_product = np.min(product_ratings, axis=1)\n",
    "min_rating_per_product"
   ]
  },
  {
   "cell_type": "markdown",
   "id": "e7a7b263-58df-448f-8bcb-9bce9d9e64ba",
   "metadata": {},
   "source": [
    "## 7. Generation of the sample stock data"
   ]
  },
  {
   "cell_type": "code",
   "execution_count": 60,
   "id": "a44db749-259a-4973-9b0e-97391da7fed8",
   "metadata": {},
   "outputs": [],
   "source": [
    "companies = ['Google', 'Microsoft', 'Apple']\n",
    "days = ['Mon 1 April', 'Tue 2 April']\n",
    "price_types = ['Open', 'Close', 'High', 'Low']"
   ]
  },
  {
   "cell_type": "code",
   "execution_count": 63,
   "id": "25a24204-c483-4a6c-893c-0ccd8324cc4f",
   "metadata": {},
   "outputs": [
    {
     "data": {
      "text/plain": [
       "array([[[0.417, 0.72 , 0.   , 0.302],\n",
       "        [0.147, 0.092, 0.186, 0.346]],\n",
       "\n",
       "       [[0.397, 0.539, 0.419, 0.685],\n",
       "        [0.204, 0.878, 0.027, 0.67 ]],\n",
       "\n",
       "       [[0.417, 0.559, 0.14 , 0.198],\n",
       "        [0.801, 0.968, 0.313, 0.692]]])"
      ]
     },
     "execution_count": 63,
     "metadata": {},
     "output_type": "execute_result"
    }
   ],
   "source": [
    "np.random.seed(1)\n",
    "stock_prices = np.round(np.random.random((len(companies), len(days), len(price_types))), 3)\n",
    "stock_prices"
   ]
  },
  {
   "cell_type": "code",
   "execution_count": 64,
   "id": "7b79909a-72be-4f6d-96fe-12ebe4e9d0b2",
   "metadata": {},
   "outputs": [
    {
     "data": {
      "text/plain": [
       "(3, 2, 4)"
      ]
     },
     "execution_count": 64,
     "metadata": {},
     "output_type": "execute_result"
    }
   ],
   "source": [
    "stock_prices.shape"
   ]
  },
  {
   "cell_type": "code",
   "execution_count": 66,
   "id": "0ab815e0-d967-487b-ac89-8b3ae530b4c7",
   "metadata": {},
   "outputs": [
    {
     "name": "stdout",
     "output_type": "stream",
     "text": [
      "Stock prices for the Google:\n",
      "Day: Mon 1 April\n",
      "Open Price: 0.417\n",
      "Close Price: 0.72\n",
      "High Price: 0.0\n",
      "Low Price: 0.302\n",
      "\n",
      "Day: Tue 2 April\n",
      "Open Price: 0.147\n",
      "Close Price: 0.092\n",
      "High Price: 0.186\n",
      "Low Price: 0.346\n",
      "\n",
      "\n",
      "Stock prices for the Microsoft:\n",
      "Day: Mon 1 April\n",
      "Open Price: 0.397\n",
      "Close Price: 0.539\n",
      "High Price: 0.419\n",
      "Low Price: 0.685\n",
      "\n",
      "Day: Tue 2 April\n",
      "Open Price: 0.204\n",
      "Close Price: 0.878\n",
      "High Price: 0.027\n",
      "Low Price: 0.67\n",
      "\n",
      "\n",
      "Stock prices for the Apple:\n",
      "Day: Mon 1 April\n",
      "Open Price: 0.417\n",
      "Close Price: 0.559\n",
      "High Price: 0.14\n",
      "Low Price: 0.198\n",
      "\n",
      "Day: Tue 2 April\n",
      "Open Price: 0.801\n",
      "Close Price: 0.968\n",
      "High Price: 0.313\n",
      "Low Price: 0.692\n",
      "\n",
      "\n"
     ]
    }
   ],
   "source": [
    "for index_axis_0, company in enumerate(companies):\n",
    "    print(f'Stock prices for the {company}:')\n",
    "    for index_axis_1, day in enumerate(days):\n",
    "        print(f'Day: {day}')\n",
    "        for index_axis_2, price_type in enumerate(price_types):\n",
    "            print(f'{price_type} Price: {stock_prices[index_axis_0, index_axis_1, index_axis_2]}')\n",
    "        print()\n",
    "    print()"
   ]
  }
 ],
 "metadata": {
  "kernelspec": {
   "display_name": "Python 3 (ipykernel)",
   "language": "python",
   "name": "python3"
  },
  "language_info": {
   "codemirror_mode": {
    "name": "ipython",
    "version": 3
   },
   "file_extension": ".py",
   "mimetype": "text/x-python",
   "name": "python",
   "nbconvert_exporter": "python",
   "pygments_lexer": "ipython3",
   "version": "3.9.6"
  }
 },
 "nbformat": 4,
 "nbformat_minor": 5
}
