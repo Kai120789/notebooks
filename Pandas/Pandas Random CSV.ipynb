{
 "cells": [
  {
   "cell_type": "code",
   "execution_count": 73,
   "id": "ad4bfca1-0691-4397-a593-7f79c4660acb",
   "metadata": {
    "collapsed": true,
    "jupyter": {
     "outputs_hidden": true
    }
   },
   "outputs": [
    {
     "name": "stdout",
     "output_type": "stream",
     "text": [
      "Defaulting to user installation because normal site-packages is not writeable\n",
      "Requirement already satisfied: openpyxl in /Users/admin/Library/Python/3.9/lib/python/site-packages (3.1.5)\n",
      "Collecting matplotlib\n",
      "  Downloading matplotlib-3.9.2-cp39-cp39-macosx_10_12_x86_64.whl.metadata (11 kB)\n",
      "Requirement already satisfied: et-xmlfile in /Users/admin/Library/Python/3.9/lib/python/site-packages (from openpyxl) (1.1.0)\n",
      "Collecting contourpy>=1.0.1 (from matplotlib)\n",
      "  Downloading contourpy-1.2.1-cp39-cp39-macosx_10_9_x86_64.whl.metadata (5.8 kB)\n",
      "Collecting cycler>=0.10 (from matplotlib)\n",
      "  Downloading cycler-0.12.1-py3-none-any.whl.metadata (3.8 kB)\n",
      "Collecting fonttools>=4.22.0 (from matplotlib)\n",
      "  Downloading fonttools-4.53.1-cp39-cp39-macosx_10_9_universal2.whl.metadata (162 kB)\n",
      "Collecting kiwisolver>=1.3.1 (from matplotlib)\n",
      "  Downloading kiwisolver-1.4.5-cp39-cp39-macosx_10_9_x86_64.whl.metadata (6.4 kB)\n",
      "Requirement already satisfied: numpy>=1.23 in /Users/admin/Library/Python/3.9/lib/python/site-packages (from matplotlib) (1.26.4)\n",
      "Requirement already satisfied: packaging>=20.0 in /Users/admin/Library/Python/3.9/lib/python/site-packages (from matplotlib) (24.0)\n",
      "Collecting pillow>=8 (from matplotlib)\n",
      "  Downloading pillow-10.4.0-cp39-cp39-macosx_10_10_x86_64.whl.metadata (9.2 kB)\n",
      "Collecting pyparsing>=2.3.1 (from matplotlib)\n",
      "  Downloading pyparsing-3.1.2-py3-none-any.whl.metadata (5.1 kB)\n",
      "Requirement already satisfied: python-dateutil>=2.7 in /Users/admin/Library/Python/3.9/lib/python/site-packages (from matplotlib) (2.9.0.post0)\n",
      "Collecting importlib-resources>=3.2.0 (from matplotlib)\n",
      "  Downloading importlib_resources-6.4.3-py3-none-any.whl.metadata (3.9 kB)\n",
      "Requirement already satisfied: zipp>=3.1.0 in /Users/admin/Library/Python/3.9/lib/python/site-packages (from importlib-resources>=3.2.0->matplotlib) (3.19.2)\n",
      "Requirement already satisfied: six>=1.5 in /Library/Developer/CommandLineTools/Library/Frameworks/Python3.framework/Versions/3.9/lib/python3.9/site-packages (from python-dateutil>=2.7->matplotlib) (1.15.0)\n",
      "Downloading matplotlib-3.9.2-cp39-cp39-macosx_10_12_x86_64.whl (7.9 MB)\n",
      "\u001b[2K   \u001b[90m━━━━━━━━━━━━━━━━━━━━━━━━━━━━━━━━━━━━━━━━\u001b[0m \u001b[32m7.9/7.9 MB\u001b[0m \u001b[31m1.1 MB/s\u001b[0m eta \u001b[36m0:00:00\u001b[0ma \u001b[36m0:00:01\u001b[0m0m\n",
      "\u001b[?25hDownloading contourpy-1.2.1-cp39-cp39-macosx_10_9_x86_64.whl (260 kB)\n",
      "Downloading cycler-0.12.1-py3-none-any.whl (8.3 kB)\n",
      "Downloading fonttools-4.53.1-cp39-cp39-macosx_10_9_universal2.whl (2.8 MB)\n",
      "\u001b[2K   \u001b[90m━━━━━━━━━━━━━━━━━━━━━━━━━━━━━━━━━━━━━━━━\u001b[0m \u001b[32m2.8/2.8 MB\u001b[0m \u001b[31m1.6 MB/s\u001b[0m eta \u001b[36m0:00:00\u001b[0ma \u001b[36m0:00:01\u001b[0m\n",
      "\u001b[?25hDownloading importlib_resources-6.4.3-py3-none-any.whl (35 kB)\n",
      "Downloading kiwisolver-1.4.5-cp39-cp39-macosx_10_9_x86_64.whl (68 kB)\n",
      "Downloading pillow-10.4.0-cp39-cp39-macosx_10_10_x86_64.whl (3.5 MB)\n",
      "\u001b[2K   \u001b[90m━━━━━━━━━━━━━━━━━━━━━━━━━━━━━━━━━━━━━━━━\u001b[0m \u001b[32m3.5/3.5 MB\u001b[0m \u001b[31m1.4 MB/s\u001b[0m eta \u001b[36m0:00:00\u001b[0ma \u001b[36m0:00:01\u001b[0m\n",
      "\u001b[?25hDownloading pyparsing-3.1.2-py3-none-any.whl (103 kB)\n",
      "Installing collected packages: pyparsing, pillow, kiwisolver, importlib-resources, fonttools, cycler, contourpy, matplotlib\n",
      "Successfully installed contourpy-1.2.1 cycler-0.12.1 fonttools-4.53.1 importlib-resources-6.4.3 kiwisolver-1.4.5 matplotlib-3.9.2 pillow-10.4.0 pyparsing-3.1.2\n"
     ]
    }
   ],
   "source": [
    "!pip install openpyxl matplotlib"
   ]
  },
  {
   "cell_type": "code",
   "execution_count": 74,
   "id": "49e3cf58-affe-45a4-8967-0288cfe8cb58",
   "metadata": {},
   "outputs": [
    {
     "name": "stderr",
     "output_type": "stream",
     "text": [
      "Matplotlib is building the font cache; this may take a moment.\n"
     ]
    }
   ],
   "source": [
    "import pandas as pd\n",
    "import numpy as np\n",
    "import matplotlib.pyplot as plt"
   ]
  },
  {
   "cell_type": "code",
   "execution_count": 43,
   "id": "e0e1b4ce-8d8e-4685-a1ef-5a0b1ca08674",
   "metadata": {},
   "outputs": [
    {
     "data": {
      "text/html": [
       "<div>\n",
       "<style scoped>\n",
       "    .dataframe tbody tr th:only-of-type {\n",
       "        vertical-align: middle;\n",
       "    }\n",
       "\n",
       "    .dataframe tbody tr th {\n",
       "        vertical-align: top;\n",
       "    }\n",
       "\n",
       "    .dataframe thead th {\n",
       "        text-align: right;\n",
       "    }\n",
       "</style>\n",
       "<table border=\"1\" class=\"dataframe\">\n",
       "  <thead>\n",
       "    <tr style=\"text-align: right;\">\n",
       "      <th></th>\n",
       "      <th>Date</th>\n",
       "      <th>Product</th>\n",
       "      <th>Price</th>\n",
       "      <th>Quantity</th>\n",
       "    </tr>\n",
       "  </thead>\n",
       "  <tbody>\n",
       "    <tr>\n",
       "      <th>0</th>\n",
       "      <td>2050-01-01</td>\n",
       "      <td>Camera</td>\n",
       "      <td>52.91</td>\n",
       "      <td>9</td>\n",
       "    </tr>\n",
       "    <tr>\n",
       "      <th>1</th>\n",
       "      <td>2050-01-02</td>\n",
       "      <td>Notebook</td>\n",
       "      <td>151.83</td>\n",
       "      <td>2</td>\n",
       "    </tr>\n",
       "    <tr>\n",
       "      <th>2</th>\n",
       "      <td>2050-01-03</td>\n",
       "      <td>Tablet</td>\n",
       "      <td>81.74</td>\n",
       "      <td>11</td>\n",
       "    </tr>\n",
       "    <tr>\n",
       "      <th>3</th>\n",
       "      <td>2050-01-04</td>\n",
       "      <td>Tablet</td>\n",
       "      <td>89.83</td>\n",
       "      <td>5</td>\n",
       "    </tr>\n",
       "    <tr>\n",
       "      <th>4</th>\n",
       "      <td>2050-01-05</td>\n",
       "      <td>Notebook</td>\n",
       "      <td>123.74</td>\n",
       "      <td>13</td>\n",
       "    </tr>\n",
       "  </tbody>\n",
       "</table>\n",
       "</div>"
      ],
      "text/plain": [
       "        Date   Product   Price  Quantity\n",
       "0 2050-01-01    Camera   52.91         9\n",
       "1 2050-01-02  Notebook  151.83         2\n",
       "2 2050-01-03    Tablet   81.74        11\n",
       "3 2050-01-04    Tablet   89.83         5\n",
       "4 2050-01-05  Notebook  123.74        13"
      ]
     },
     "execution_count": 43,
     "metadata": {},
     "output_type": "execute_result"
    }
   ],
   "source": [
    "np.random.seed(1)\n",
    "n = 100\n",
    "dates = pd.date_range(start='2050-01-01', periods=n, freq='D')\n",
    "products = np.random.choice(['Tablet', 'Camera', 'Phone', 'Notebook'], n)\n",
    "prices = np.random.uniform(50.0, 200.0, n).round(2)\n",
    "quantities = np.random.randint(1, 15, n)\n",
    "\n",
    "data = {\n",
    "    'Date': dates,\n",
    "    'Product': products,\n",
    "    'Price': prices,\n",
    "    'Quantity': quantities\n",
    "}\n",
    "df = pd.DataFrame(data)\n",
    "df.head()"
   ]
  },
  {
   "cell_type": "code",
   "execution_count": 44,
   "id": "85cbc477-5455-424f-ac5a-5406fed231d2",
   "metadata": {},
   "outputs": [
    {
     "data": {
      "text/plain": [
       "Date        datetime64[ns]\n",
       "Product             object\n",
       "Price              float64\n",
       "Quantity             int64\n",
       "dtype: object"
      ]
     },
     "execution_count": 44,
     "metadata": {},
     "output_type": "execute_result"
    }
   ],
   "source": [
    "df.dtypes"
   ]
  },
  {
   "cell_type": "code",
   "execution_count": 45,
   "id": "45837266-15ee-43cf-81a8-8c6f82217722",
   "metadata": {},
   "outputs": [
    {
     "data": {
      "text/html": [
       "<div>\n",
       "<style scoped>\n",
       "    .dataframe tbody tr th:only-of-type {\n",
       "        vertical-align: middle;\n",
       "    }\n",
       "\n",
       "    .dataframe tbody tr th {\n",
       "        vertical-align: top;\n",
       "    }\n",
       "\n",
       "    .dataframe thead th {\n",
       "        text-align: right;\n",
       "    }\n",
       "</style>\n",
       "<table border=\"1\" class=\"dataframe\">\n",
       "  <thead>\n",
       "    <tr style=\"text-align: right;\">\n",
       "      <th></th>\n",
       "      <th>Date</th>\n",
       "      <th>Price</th>\n",
       "      <th>Quantity</th>\n",
       "    </tr>\n",
       "  </thead>\n",
       "  <tbody>\n",
       "    <tr>\n",
       "      <th>count</th>\n",
       "      <td>100</td>\n",
       "      <td>100.00000</td>\n",
       "      <td>100.000000</td>\n",
       "    </tr>\n",
       "    <tr>\n",
       "      <th>mean</th>\n",
       "      <td>2050-02-19 12:00:00</td>\n",
       "      <td>123.20450</td>\n",
       "      <td>7.240000</td>\n",
       "    </tr>\n",
       "    <tr>\n",
       "      <th>min</th>\n",
       "      <td>2050-01-01 00:00:00</td>\n",
       "      <td>50.43000</td>\n",
       "      <td>1.000000</td>\n",
       "    </tr>\n",
       "    <tr>\n",
       "      <th>25%</th>\n",
       "      <td>2050-01-25 18:00:00</td>\n",
       "      <td>75.58750</td>\n",
       "      <td>4.000000</td>\n",
       "    </tr>\n",
       "    <tr>\n",
       "      <th>50%</th>\n",
       "      <td>2050-02-19 12:00:00</td>\n",
       "      <td>131.87000</td>\n",
       "      <td>7.000000</td>\n",
       "    </tr>\n",
       "    <tr>\n",
       "      <th>75%</th>\n",
       "      <td>2050-03-16 06:00:00</td>\n",
       "      <td>162.20750</td>\n",
       "      <td>11.000000</td>\n",
       "    </tr>\n",
       "    <tr>\n",
       "      <th>max</th>\n",
       "      <td>2050-04-10 00:00:00</td>\n",
       "      <td>199.60000</td>\n",
       "      <td>14.000000</td>\n",
       "    </tr>\n",
       "    <tr>\n",
       "      <th>std</th>\n",
       "      <td>NaN</td>\n",
       "      <td>46.45348</td>\n",
       "      <td>3.921245</td>\n",
       "    </tr>\n",
       "  </tbody>\n",
       "</table>\n",
       "</div>"
      ],
      "text/plain": [
       "                      Date      Price    Quantity\n",
       "count                  100  100.00000  100.000000\n",
       "mean   2050-02-19 12:00:00  123.20450    7.240000\n",
       "min    2050-01-01 00:00:00   50.43000    1.000000\n",
       "25%    2050-01-25 18:00:00   75.58750    4.000000\n",
       "50%    2050-02-19 12:00:00  131.87000    7.000000\n",
       "75%    2050-03-16 06:00:00  162.20750   11.000000\n",
       "max    2050-04-10 00:00:00  199.60000   14.000000\n",
       "std                    NaN   46.45348    3.921245"
      ]
     },
     "execution_count": 45,
     "metadata": {},
     "output_type": "execute_result"
    }
   ],
   "source": [
    "df.describe()"
   ]
  },
  {
   "cell_type": "code",
   "execution_count": 46,
   "id": "2cf9f16b-b99f-4244-bfe6-229517b88bc6",
   "metadata": {},
   "outputs": [],
   "source": [
    "df.to_csv('random_sales.csv', index=False)"
   ]
  },
  {
   "cell_type": "code",
   "execution_count": 57,
   "id": "bc66f52f-a289-41ff-bff1-4a818e1663c5",
   "metadata": {},
   "outputs": [
    {
     "data": {
      "text/html": [
       "<div>\n",
       "<style scoped>\n",
       "    .dataframe tbody tr th:only-of-type {\n",
       "        vertical-align: middle;\n",
       "    }\n",
       "\n",
       "    .dataframe tbody tr th {\n",
       "        vertical-align: top;\n",
       "    }\n",
       "\n",
       "    .dataframe thead th {\n",
       "        text-align: right;\n",
       "    }\n",
       "</style>\n",
       "<table border=\"1\" class=\"dataframe\">\n",
       "  <thead>\n",
       "    <tr style=\"text-align: right;\">\n",
       "      <th></th>\n",
       "      <th>Date</th>\n",
       "      <th>Product</th>\n",
       "      <th>Price</th>\n",
       "      <th>Quantity</th>\n",
       "    </tr>\n",
       "  </thead>\n",
       "  <tbody>\n",
       "    <tr>\n",
       "      <th>0</th>\n",
       "      <td>2050-01-01</td>\n",
       "      <td>Camera</td>\n",
       "      <td>52.91</td>\n",
       "      <td>9</td>\n",
       "    </tr>\n",
       "    <tr>\n",
       "      <th>1</th>\n",
       "      <td>2050-01-02</td>\n",
       "      <td>Notebook</td>\n",
       "      <td>151.83</td>\n",
       "      <td>2</td>\n",
       "    </tr>\n",
       "    <tr>\n",
       "      <th>2</th>\n",
       "      <td>2050-01-03</td>\n",
       "      <td>Tablet</td>\n",
       "      <td>81.74</td>\n",
       "      <td>11</td>\n",
       "    </tr>\n",
       "    <tr>\n",
       "      <th>3</th>\n",
       "      <td>2050-01-04</td>\n",
       "      <td>Tablet</td>\n",
       "      <td>89.83</td>\n",
       "      <td>5</td>\n",
       "    </tr>\n",
       "    <tr>\n",
       "      <th>4</th>\n",
       "      <td>2050-01-05</td>\n",
       "      <td>Notebook</td>\n",
       "      <td>123.74</td>\n",
       "      <td>13</td>\n",
       "    </tr>\n",
       "  </tbody>\n",
       "</table>\n",
       "</div>"
      ],
      "text/plain": [
       "        Date   Product   Price  Quantity\n",
       "0 2050-01-01    Camera   52.91         9\n",
       "1 2050-01-02  Notebook  151.83         2\n",
       "2 2050-01-03    Tablet   81.74        11\n",
       "3 2050-01-04    Tablet   89.83         5\n",
       "4 2050-01-05  Notebook  123.74        13"
      ]
     },
     "execution_count": 57,
     "metadata": {},
     "output_type": "execute_result"
    }
   ],
   "source": [
    "df = pd.read_csv('random_sales.csv', parse_dates=['Date'], date_format='%Y-%m-%d')\n",
    "df.head()"
   ]
  },
  {
   "cell_type": "code",
   "execution_count": 58,
   "id": "39070f34-fd37-42c1-b371-9df4a9e42257",
   "metadata": {},
   "outputs": [
    {
     "data": {
      "text/plain": [
       "Date        datetime64[ns]\n",
       "Product             object\n",
       "Price              float64\n",
       "Quantity             int64\n",
       "dtype: object"
      ]
     },
     "execution_count": 58,
     "metadata": {},
     "output_type": "execute_result"
    }
   ],
   "source": [
    "df.dtypes"
   ]
  },
  {
   "cell_type": "code",
   "execution_count": 62,
   "id": "98406062-1a7c-40e2-8480-8134bac11c63",
   "metadata": {},
   "outputs": [],
   "source": [
    "df.to_excel('sales_data.xlsx')"
   ]
  },
  {
   "cell_type": "code",
   "execution_count": 63,
   "id": "dc625f98-74f4-4361-9f53-6c4d965cd959",
   "metadata": {},
   "outputs": [],
   "source": [
    "df.to_json('sales_data.json')"
   ]
  },
  {
   "cell_type": "code",
   "execution_count": 65,
   "id": "0cbc99ae-303c-4aad-b4ea-84fcb5701b91",
   "metadata": {},
   "outputs": [
    {
     "data": {
      "text/html": [
       "<div>\n",
       "<style scoped>\n",
       "    .dataframe tbody tr th:only-of-type {\n",
       "        vertical-align: middle;\n",
       "    }\n",
       "\n",
       "    .dataframe tbody tr th {\n",
       "        vertical-align: top;\n",
       "    }\n",
       "\n",
       "    .dataframe thead th {\n",
       "        text-align: right;\n",
       "    }\n",
       "</style>\n",
       "<table border=\"1\" class=\"dataframe\">\n",
       "  <thead>\n",
       "    <tr style=\"text-align: right;\">\n",
       "      <th></th>\n",
       "      <th>Date</th>\n",
       "      <th>Price</th>\n",
       "      <th>Quantity</th>\n",
       "    </tr>\n",
       "  </thead>\n",
       "  <tbody>\n",
       "    <tr>\n",
       "      <th>count</th>\n",
       "      <td>100</td>\n",
       "      <td>100.00</td>\n",
       "      <td>100.00</td>\n",
       "    </tr>\n",
       "    <tr>\n",
       "      <th>mean</th>\n",
       "      <td>2050-02-19 12:00:00</td>\n",
       "      <td>123.20</td>\n",
       "      <td>7.24</td>\n",
       "    </tr>\n",
       "    <tr>\n",
       "      <th>min</th>\n",
       "      <td>2050-01-01 00:00:00</td>\n",
       "      <td>50.43</td>\n",
       "      <td>1.00</td>\n",
       "    </tr>\n",
       "    <tr>\n",
       "      <th>25%</th>\n",
       "      <td>2050-01-25 18:00:00</td>\n",
       "      <td>75.59</td>\n",
       "      <td>4.00</td>\n",
       "    </tr>\n",
       "    <tr>\n",
       "      <th>50%</th>\n",
       "      <td>2050-02-19 12:00:00</td>\n",
       "      <td>131.87</td>\n",
       "      <td>7.00</td>\n",
       "    </tr>\n",
       "    <tr>\n",
       "      <th>75%</th>\n",
       "      <td>2050-03-16 06:00:00</td>\n",
       "      <td>162.21</td>\n",
       "      <td>11.00</td>\n",
       "    </tr>\n",
       "    <tr>\n",
       "      <th>max</th>\n",
       "      <td>2050-04-10 00:00:00</td>\n",
       "      <td>199.60</td>\n",
       "      <td>14.00</td>\n",
       "    </tr>\n",
       "    <tr>\n",
       "      <th>std</th>\n",
       "      <td>NaN</td>\n",
       "      <td>46.45</td>\n",
       "      <td>3.92</td>\n",
       "    </tr>\n",
       "  </tbody>\n",
       "</table>\n",
       "</div>"
      ],
      "text/plain": [
       "                      Date   Price  Quantity\n",
       "count                  100  100.00    100.00\n",
       "mean   2050-02-19 12:00:00  123.20      7.24\n",
       "min    2050-01-01 00:00:00   50.43      1.00\n",
       "25%    2050-01-25 18:00:00   75.59      4.00\n",
       "50%    2050-02-19 12:00:00  131.87      7.00\n",
       "75%    2050-03-16 06:00:00  162.21     11.00\n",
       "max    2050-04-10 00:00:00  199.60     14.00\n",
       "std                    NaN   46.45      3.92"
      ]
     },
     "execution_count": 65,
     "metadata": {},
     "output_type": "execute_result"
    }
   ],
   "source": [
    "df.describe().round(2)"
   ]
  },
  {
   "cell_type": "code",
   "execution_count": 68,
   "id": "1a1a0f01-a6c4-4bfd-b8e1-054a9421a748",
   "metadata": {},
   "outputs": [
    {
     "data": {
      "text/plain": [
       "array([[Timestamp('2050-01-01 00:00:00'), 'Camera', 52.91, 9],\n",
       "       [Timestamp('2050-01-02 00:00:00'), 'Notebook', 151.83, 2],\n",
       "       [Timestamp('2050-01-03 00:00:00'), 'Tablet', 81.74, 11],\n",
       "       [Timestamp('2050-01-04 00:00:00'), 'Tablet', 89.83, 5],\n",
       "       [Timestamp('2050-01-05 00:00:00'), 'Notebook', 123.74, 13]],\n",
       "      dtype=object)"
      ]
     },
     "execution_count": 68,
     "metadata": {},
     "output_type": "execute_result"
    }
   ],
   "source": [
    "df.values[:5]"
   ]
  },
  {
   "cell_type": "code",
   "execution_count": 75,
   "id": "77d02066-f37b-4fb1-aa5a-4e28d0361252",
   "metadata": {},
   "outputs": [
    {
     "data": {
      "text/plain": [
       "Product\n",
       "Camera      218\n",
       "Notebook    169\n",
       "Phone       117\n",
       "Tablet      220\n",
       "Name: Quantity, dtype: int64"
      ]
     },
     "execution_count": 75,
     "metadata": {},
     "output_type": "execute_result"
    }
   ],
   "source": [
    "product_sales = df.groupby(by='Product')['Quantity'].sum()\n",
    "product_sales"
   ]
  },
  {
   "cell_type": "code",
   "execution_count": 79,
   "id": "afec558c-cba7-4052-b8db-a6fe2beccff6",
   "metadata": {},
   "outputs": [
    {
     "data": {
      "text/plain": [
       "Product\n",
       "Camera      109.57\n",
       "Notebook    120.07\n",
       "Phone       139.54\n",
       "Tablet      129.60\n",
       "Name: Price, dtype: float64"
      ]
     },
     "execution_count": 79,
     "metadata": {},
     "output_type": "execute_result"
    }
   ],
   "source": [
    "avg_prices = df.groupby(by='Product')['Price'].mean().round(2)\n",
    "avg_prices"
   ]
  },
  {
   "cell_type": "code",
   "execution_count": 78,
   "id": "e139399d-69a9-44db-adb6-7bba243aa736",
   "metadata": {},
   "outputs": [
    {
     "data": {
      "image/png": "[encoded data removed]",
      "text/plain": [
       "<Figure size 640x480 with 1 Axes>"
      ]
     },
     "metadata": {},
     "output_type": "display_data"
    }
   ],
   "source": [
    "plt.bar(product_sales.index, product_sales.values, color=['red', 'green', 'blue', 'gray'])\n",
    "plt.title('Total Sales per Product')\n",
    "plt.xlabel('Product')\n",
    "plt.ylabel('Total Sales')\n",
    "plt.show()"
   ]
  },
  {
   "cell_type": "code",
   "execution_count": 83,
   "id": "542b3cc5-3a2b-4274-94bc-95a6ac764adc",
   "metadata": {},
   "outputs": [
    {
     "data": {
      "image/png": "[encoded data removed]",
      "text/plain": [
       "<Figure size 640x480 with 1 Axes>"
      ]
     },
     "metadata": {},
     "output_type": "display_data"
    }
   ],
   "source": [
    "plt.plot(avg_prices.index, avg_prices.values)\n",
    "plt.title('Average Price per Product')\n",
    "plt.xlabel('Product')\n",
    "plt.ylabel('Average Price')\n",
    "plt.show()"
   ]
  }
 ],
 "metadata": {
  "kernelspec": {
   "display_name": "Python 3 (ipykernel)",
   "language": "python",
   "name": "python3"
  },
  "language_info": {
   "codemirror_mode": {
    "name": "ipython",
    "version": 3
   },
   "file_extension": ".py",
   "mimetype": "text/x-python",
   "name": "python",
   "nbconvert_exporter": "python",
   "pygments_lexer": "ipython3",
   "version": "3.9.6"
  }
 },
 "nbformat": 4,
 "nbformat_minor": 5
}
