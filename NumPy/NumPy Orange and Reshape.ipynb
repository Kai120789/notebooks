{
 "cells": [
  {
   "cell_type": "code",
   "execution_count": 1,
   "id": "711853f8-68ef-4d7a-aed9-9703c614e65d",
   "metadata": {},
   "outputs": [],
   "source": [
    "import numpy as np"
   ]
  },
  {
   "cell_type": "code",
   "execution_count": 2,
   "id": "c0073044-30a3-45b4-8312-e0db1f767585",
   "metadata": {},
   "outputs": [
    {
     "data": {
      "text/plain": [
       "array([0, 1, 2, 3, 4, 5, 6, 7, 8, 9])"
      ]
     },
     "execution_count": 2,
     "metadata": {},
     "output_type": "execute_result"
    }
   ],
   "source": [
    "np.arange(10)"
   ]
  },
  {
   "cell_type": "code",
   "execution_count": 9,
   "id": "68c204c5-95f2-430a-bbb1-7d25c4078ac6",
   "metadata": {},
   "outputs": [
    {
     "data": {
      "text/plain": [
       "array([-8, -5, -2,  1,  4,  7, 10, 13, 16, 19, 22])"
      ]
     },
     "execution_count": 9,
     "metadata": {},
     "output_type": "execute_result"
    }
   ],
   "source": [
    "np.arange(-8, 25, 3)"
   ]
  },
  {
   "cell_type": "code",
   "execution_count": 10,
   "id": "9170b17a-48c0-4576-b558-06c2382018a7",
   "metadata": {},
   "outputs": [
    {
     "data": {
      "text/plain": [
       "array([ 2,  0, -2, -4, -6, -8])"
      ]
     },
     "execution_count": 10,
     "metadata": {},
     "output_type": "execute_result"
    }
   ],
   "source": [
    "np.arange(start=2, stop=-10, step=-2,)"
   ]
  },
  {
   "cell_type": "code",
   "execution_count": 14,
   "id": "3c1bc13f-8e35-4a6d-a17e-8a9ff7a37020",
   "metadata": {},
   "outputs": [
    {
     "data": {
      "text/plain": [
       "array([[[ 0,  1,  2],\n",
       "        [ 3,  4,  5],\n",
       "        [ 6,  7,  8]],\n",
       "\n",
       "       [[ 9, 10, 11],\n",
       "        [12, 13, 14],\n",
       "        [15, 16, 17]],\n",
       "\n",
       "       [[18, 19, 20],\n",
       "        [21, 22, 23],\n",
       "        [24, 25, 26]]])"
      ]
     },
     "execution_count": 14,
     "metadata": {},
     "output_type": "execute_result"
    }
   ],
   "source": [
    "np.arange(27).reshape([3, 9]).reshape([3, 3, 3])"
   ]
  },
  {
   "cell_type": "code",
   "execution_count": 28,
   "id": "d37d1188-0ab7-4a3a-9f9d-51049fad5e5e",
   "metadata": {},
   "outputs": [
    {
     "data": {
      "text/plain": [
       "array([[0.40454038, 0.234946  ],\n",
       "       [0.20817701, 0.83487925],\n",
       "       [0.90554538, 0.84266725],\n",
       "       [0.85641657, 0.49895534],\n",
       "       [0.46558035, 0.70302799]])"
      ]
     },
     "execution_count": 28,
     "metadata": {},
     "output_type": "execute_result"
    }
   ],
   "source": [
    "np.random.random((10,)).reshape([5, 2])"
   ]
  },
  {
   "cell_type": "code",
   "execution_count": 30,
   "id": "93d0173b-bb52-4710-b946-eb8ab2c6637e",
   "metadata": {},
   "outputs": [
    {
     "data": {
      "text/plain": [
       "array([[[59, 79, 54],\n",
       "        [65, 50, 67],\n",
       "        [77, 78, 75]],\n",
       "\n",
       "       [[79, 66, 79],\n",
       "        [67, 76, 58],\n",
       "        [59, 50, 60]],\n",
       "\n",
       "       [[58, 72, 54],\n",
       "        [69, 66, 54],\n",
       "        [65, 61, 72]],\n",
       "\n",
       "       [[74, 61, 76],\n",
       "        [51, 58, 54],\n",
       "        [64, 67, 69]]])"
      ]
     },
     "execution_count": 30,
     "metadata": {},
     "output_type": "execute_result"
    }
   ],
   "source": [
    "np.random.seed(10)\n",
    "np.random.randint(50, 80, (4, 3, 3))"
   ]
  },
  {
   "cell_type": "code",
   "execution_count": 31,
   "id": "6133e419-f7b4-4266-bf11-68a6ac55e643",
   "metadata": {},
   "outputs": [
    {
     "data": {
      "text/plain": [
       "array([59, 79, 54, 65, 50, 67, 77, 78, 75, 79, 66, 79, 67, 76, 58, 59, 50,\n",
       "       60, 58, 72, 54, 69, 66, 54, 65, 61, 72, 74, 61, 76, 51, 58, 54, 64,\n",
       "       67, 69])"
      ]
     },
     "execution_count": 31,
     "metadata": {},
     "output_type": "execute_result"
    }
   ],
   "source": [
    "np.random.seed(10)\n",
    "np.random.randint(50, 80, (4, 3, 3)).flatten()"
   ]
  },
  {
   "cell_type": "code",
   "execution_count": 33,
   "id": "69461bb8-0b50-4bb9-863a-0bc8d78bf5d3",
   "metadata": {},
   "outputs": [
    {
     "data": {
      "text/plain": [
       "array([[ 0,  1,  2,  3,  4,  5,  6,  7,  8,  9],\n",
       "       [10, 11, 12, 13, 14, 15, 16, 17, 18, 19],\n",
       "       [20, 21, 22, 23, 24, 25, 26, 27, 28, 29]])"
      ]
     },
     "execution_count": 33,
     "metadata": {},
     "output_type": "execute_result"
    }
   ],
   "source": [
    "np.arange(30).reshape((3, 10))"
   ]
  }
 ],
 "metadata": {
  "kernelspec": {
   "display_name": "Python 3 (ipykernel)",
   "language": "python",
   "name": "python3"
  },
  "language_info": {
   "codemirror_mode": {
    "name": "ipython",
    "version": 3
   },
   "file_extension": ".py",
   "mimetype": "text/x-python",
   "name": "python",
   "nbconvert_exporter": "python",
   "pygments_lexer": "ipython3",
   "version": "3.9.6"
  }
 },
 "nbformat": 4,
 "nbformat_minor": 5
}
