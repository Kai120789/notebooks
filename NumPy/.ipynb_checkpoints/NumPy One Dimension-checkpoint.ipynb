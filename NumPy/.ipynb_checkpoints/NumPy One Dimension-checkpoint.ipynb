{
 "cells": [
  {
   "cell_type": "code",
   "execution_count": 4,
   "id": "34184183-e678-4eec-9709-41efd774ad4b",
   "metadata": {},
   "outputs": [],
   "source": [
    "import numpy as np"
   ]
  },
  {
   "cell_type": "code",
   "execution_count": 5,
   "id": "7424a57d-a413-4a18-8281-9e431cddb3e5",
   "metadata": {},
   "outputs": [
    {
     "data": {
      "text/plain": [
       "<module 'numpy' from '/Users/admin/Library/Python/3.9/lib/python/site-packages/numpy/__init__.py'>"
      ]
     },
     "execution_count": 5,
     "metadata": {},
     "output_type": "execute_result"
    }
   ],
   "source": [
    "np"
   ]
  },
  {
   "cell_type": "code",
   "execution_count": 7,
   "id": "349ccddb-6a8e-45c8-afc7-ab7c40848e15",
   "metadata": {
    "scrolled": true
   },
   "outputs": [
    {
     "data": {
      "text/plain": [
       "array([ 7,  8,  9, 10])"
      ]
     },
     "execution_count": 7,
     "metadata": {},
     "output_type": "execute_result"
    }
   ],
   "source": [
    "nums_array = np.array([7, 8, 9, 10])\n",
    "nums_array"
   ]
  },
  {
   "cell_type": "code",
   "execution_count": 11,
   "id": "6c3c0b50-2cf2-47b4-9e8f-fb8558e37c61",
   "metadata": {},
   "outputs": [
    {
     "data": {
      "text/plain": [
       "9"
      ]
     },
     "execution_count": 11,
     "metadata": {},
     "output_type": "execute_result"
    }
   ],
   "source": [
    "nums_array[-2]"
   ]
  },
  {
   "cell_type": "code",
   "execution_count": 16,
   "id": "80e31c1f-d64b-4b78-ab7d-dddaf43781fb",
   "metadata": {},
   "outputs": [
    {
     "data": {
      "text/plain": [
       "8"
      ]
     },
     "execution_count": 16,
     "metadata": {},
     "output_type": "execute_result"
    }
   ],
   "source": [
    "nums_array.itemsize"
   ]
  },
  {
   "cell_type": "code",
   "execution_count": 23,
   "id": "19509122-7693-4e57-ba74-a87e053bcd0d",
   "metadata": {},
   "outputs": [],
   "source": [
    "str_array = np.array([True, 10, 'str', 10.10])"
   ]
  },
  {
   "cell_type": "code",
   "execution_count": 24,
   "id": "97be6e09-0623-424c-b9e1-2d5d0f600c75",
   "metadata": {},
   "outputs": [
    {
     "data": {
      "text/plain": [
       "128"
      ]
     },
     "execution_count": 24,
     "metadata": {},
     "output_type": "execute_result"
    }
   ],
   "source": [
    "str_array.itemsize"
   ]
  },
  {
   "cell_type": "code",
   "execution_count": 27,
   "id": "1766f026-1fa5-40c0-83b0-a93460a5fad6",
   "metadata": {},
   "outputs": [
    {
     "data": {
      "text/plain": [
       "array([{'city': 'Moscow'}, {'city': 'Novoros'}], dtype=object)"
      ]
     },
     "execution_count": 27,
     "metadata": {},
     "output_type": "execute_result"
    }
   ],
   "source": [
    "obj_array = np.array([{'city':'Moscow' }, {'city':'Novoros'}])\n",
    "obj_array"
   ]
  },
  {
   "cell_type": "code",
   "execution_count": 29,
   "id": "1c9338b5-886f-4820-8b71-7c3e9d7f3d66",
   "metadata": {},
   "outputs": [
    {
     "data": {
      "text/plain": [
       "'object'"
      ]
     },
     "execution_count": 29,
     "metadata": {},
     "output_type": "execute_result"
    }
   ],
   "source": [
    "obj_array.dtype.name"
   ]
  },
  {
   "cell_type": "code",
   "execution_count": 30,
   "id": "c89e5011-85ab-421e-8f25-97b9664ea75e",
   "metadata": {},
   "outputs": [
    {
     "data": {
      "text/plain": [
       "(2,)"
      ]
     },
     "execution_count": 30,
     "metadata": {},
     "output_type": "execute_result"
    }
   ],
   "source": [
    "obj_array.shape"
   ]
  }
 ],
 "metadata": {
  "kernelspec": {
   "display_name": "Python 3 (ipykernel)",
   "language": "python",
   "name": "python3"
  },
  "language_info": {
   "codemirror_mode": {
    "name": "ipython",
    "version": 3
   },
   "file_extension": ".py",
   "mimetype": "text/x-python",
   "name": "python",
   "nbconvert_exporter": "python",
   "pygments_lexer": "ipython3",
   "version": "3.9.6"
  }
 },
 "nbformat": 4,
 "nbformat_minor": 5
}
